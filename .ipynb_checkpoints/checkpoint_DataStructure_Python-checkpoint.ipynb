{
 "cells": [
  {
   "cell_type": "code",
   "execution_count": 15,
   "id": "0fa9e6c5-1357-44ea-9a5f-3179727f720d",
   "metadata": {},
   "outputs": [],
   "source": [
    "List_shopping = []\n",
    "Options = {1: \"Ajouter\", 2: \"Supprimer\",  3: \"Afficher\"}\n",
    "Liste_produits = [\"Lait\" , \"Cafe\" , \"Sucre\" , \"Tomate\" , \"Riz\" , \"Haricots\"]\n",
    "Produit = \"\"\n",
    "choix = \"\""
   ]
  },
  {
   "cell_type": "code",
   "execution_count": 18,
   "id": "df88bfe1-481f-483b-ae4d-d51228635480",
   "metadata": {},
   "outputs": [
    {
     "name": "stdin",
     "output_type": "stream",
     "text": [
      "Voulez-vous faire une transaction : (OUI/NON) oui\n"
     ]
    },
    {
     "name": "stdout",
     "output_type": "stream",
     "text": [
      "dict_values(['Ajouter', 'Supprimer', 'Afficher'])\n"
     ]
    },
    {
     "name": "stdin",
     "output_type": "stream",
     "text": [
      "Choisissez une option Afficher\n"
     ]
    },
    {
     "name": "stdout",
     "output_type": "stream",
     "text": [
      "Votre liste de shopping :\n",
      "Tomate\n",
      "Riz\n"
     ]
    },
    {
     "name": "stdin",
     "output_type": "stream",
     "text": [
      "Voulez-vous faire une transaction : (OUI/NON) non\n"
     ]
    }
   ],
   "source": [
    "while input (\"Voulez-vous faire une transaction : (OUI/NON)\") in  [\"Oui\" , \"oui\"]:\n",
    "    Liste_options  = Options.values()\n",
    "    print (Liste_options)\n",
    "    choix = input (\"Choisissez une option\")\n",
    "    \n",
    "    if choix == Options [1]:\n",
    "        n=int(input())\n",
    "        for i in range(n):\n",
    "            print (\"Choisissez un produit à ajouter\" , Liste_produits) \n",
    "            Produit = input (\"Choisir un produit\")\n",
    "            if Produit in  Liste_produits:\n",
    "                List_shopping.append (Produit)\n",
    "                print (List_shopping)\n",
    "            else:\n",
    "                print (\"produit inexistant\")\n",
    "            \n",
    "    elif choix == Options [2]:\n",
    "        print (List_shopping)\n",
    "        produit = input (\"Choisir  produit à supprimer\")\n",
    "        if produit in List_shopping:\n",
    "            List_shopping.remove(Produit)\n",
    "            print (\"Votre liste actuelle contient\" , List_shopping)\n",
    "        else:\n",
    "            print (\"Votre choix est erroné\")\n",
    "            \n",
    "    else:\n",
    "        choix == Options [3]\n",
    "        print (\"Votre liste de shopping :\")\n",
    "        for produit in List_shopping:\n",
    "            print(produit)\n",
    "            # print (\"Votre liste de shopping\", List_shopping)\n",
    "    \n",
    "\n"
   ]
  },
  {
   "cell_type": "code",
   "execution_count": 9,
   "id": "2a2a0006-3460-4633-ad1e-62e6143c5329",
   "metadata": {},
   "outputs": [
    {
     "data": {
      "text/plain": [
       "['Lait', 'Cafe']"
      ]
     },
     "execution_count": 9,
     "metadata": {},
     "output_type": "execute_result"
    }
   ],
   "source": [
    "List_shopping"
   ]
  },
  {
   "cell_type": "code",
   "execution_count": null,
   "id": "156798c9-da2d-4372-b5e8-76551b5a63fc",
   "metadata": {},
   "outputs": [],
   "source": []
  }
 ],
 "metadata": {
  "kernelspec": {
   "display_name": "Python 3 (ipykernel)",
   "language": "python",
   "name": "python3"
  },
  "language_info": {
   "codemirror_mode": {
    "name": "ipython",
    "version": 3
   },
   "file_extension": ".py",
   "mimetype": "text/x-python",
   "name": "python",
   "nbconvert_exporter": "python",
   "pygments_lexer": "ipython3",
   "version": "3.12.7"
  }
 },
 "nbformat": 4,
 "nbformat_minor": 5
}
